{
 "cells": [
  {
   "cell_type": "code",
   "execution_count": 16,
   "metadata": {},
   "outputs": [
    {
     "name": "stdout",
     "output_type": "stream",
     "text": [
      "Defaulting to user installation because normal site-packages is not writeable\n",
      "Requirement already satisfied: elasticsearch in /Users/chiemdu/Library/Python/3.9/lib/python/site-packages (8.12.1)\n",
      "Requirement already satisfied: pymysql in /Users/chiemdu/Library/Python/3.9/lib/python/site-packages (1.1.0)\n",
      "Requirement already satisfied: elastic-transport<9,>=8 in /Users/chiemdu/Library/Python/3.9/lib/python/site-packages (from elasticsearch) (8.12.0)\n",
      "Requirement already satisfied: certifi in /Users/chiemdu/Library/Python/3.9/lib/python/site-packages (from elastic-transport<9,>=8->elasticsearch) (2024.2.2)\n",
      "Requirement already satisfied: urllib3<3,>=1.26.2 in /Users/chiemdu/Library/Python/3.9/lib/python/site-packages (from elastic-transport<9,>=8->elasticsearch) (2.2.1)\n",
      "\u001b[33mWARNING: You are using pip version 21.2.4; however, version 24.0 is available.\n",
      "You should consider upgrading via the '/Applications/Xcode.app/Contents/Developer/usr/bin/python3 -m pip install --upgrade pip' command.\u001b[0m\n",
      "Note: you may need to restart the kernel to use updated packages.\n"
     ]
    }
   ],
   "source": [
    "%pip install elasticsearch pymysql"
   ]
  },
  {
   "cell_type": "code",
   "execution_count": 17,
   "metadata": {},
   "outputs": [],
   "source": [
    "# docker run  --net esnet -p 9200:9200 -p 9300:9300 -e “discovery.type=single-node” elasticsearch:7.17.17"
   ]
  },
  {
   "cell_type": "code",
   "execution_count": 18,
   "metadata": {},
   "outputs": [],
   "source": [
    "import pymysql\n",
    "from elasticsearch import Elasticsearch\n",
    "\n",
    "# MySQL connection parameters\n",
    "mysql_host = '103.82.133.168'\n",
    "mysql_port = 3306\n",
    "mysql_user = 'root'\n",
    "mysql_password = 'chiemdu123'\n",
    "mysql_db = 'YuGiOh'\n",
    "\n",
    "# Elasticsearch connection parameters\n",
    "es_host = '103.82.27.204'\n",
    "es_port = 9200\n",
    "es_index = 'yugi_oh_index'\n",
    "\n",
    "def fetch_mysql_data():\n",
    "    # Establish MySQL connection\n",
    "    connection = pymysql.connect(host=mysql_host,port=mysql_port,  user=mysql_user, password=mysql_password, db=mysql_db, charset='utf8mb4')\n",
    "    cursor = connection.cursor()\n",
    "\n",
    "    # Fetch data from MySQL\n",
    "    query = \"SELECT * FROM YuGiOh_cards\"\n",
    "    cursor.execute(query)\n",
    "    result = cursor.fetchall()\n",
    "\n",
    "    # Close MySQL connection\n",
    "    cursor.close()\n",
    "    connection.close()\n",
    "\n",
    "    return result\n",
    "\n",
    "def push_to_elasticsearch(data):\n",
    "    # Establish Elasticsearch connection\n",
    "    es = Elasticsearch([{'host': es_host, 'port': es_port,\"scheme\": \"http\"}])\n",
    "\n",
    "    # Indexing data into Elasticsearch\n",
    "    for record in data:\n",
    "        document = {\n",
    "            'Image_name': record[0],\n",
    "            'Card_number': record[1],\n",
    "            'Rarity': record[2],\n",
    "            'Card_name': record[3],\n",
    "            'Card_type': record[4],\n",
    "            'Attribute': record[5],\n",
    "            'Types': record[6],\n",
    "            'Level': record[7],\n",
    "            'Description': record[8],\n",
    "        }\n",
    "\n",
    "        # Index the document into Elasticsearch\n",
    "        es.index(index=es_index, body=document)"
   ]
  },
  {
   "cell_type": "code",
   "execution_count": 19,
   "metadata": {},
   "outputs": [],
   "source": [
    "# Fetch data from MySQL\n",
    "mysql_data = fetch_mysql_data()"
   ]
  },
  {
   "cell_type": "code",
   "execution_count": 20,
   "metadata": {},
   "outputs": [
    {
     "data": {
      "text/plain": [
       "8373"
      ]
     },
     "execution_count": 20,
     "metadata": {},
     "output_type": "execute_result"
    }
   ],
   "source": [
    "mysql_data.__len__()"
   ]
  },
  {
   "cell_type": "code",
   "execution_count": 21,
   "metadata": {},
   "outputs": [
    {
     "data": {
      "text/plain": [
       "100"
      ]
     },
     "execution_count": 21,
     "metadata": {},
     "output_type": "execute_result"
    }
   ],
   "source": [
    "part_data = mysql_data[0:100]\n",
    "part_data.__len__()"
   ]
  },
  {
   "cell_type": "code",
   "execution_count": 22,
   "metadata": {},
   "outputs": [
    {
     "name": "stderr",
     "output_type": "stream",
     "text": [
      "/var/folders/cm/4m2_895j17v2wh5_3g0zqj9h0000gn/T/ipykernel_7438/2094240387.py:51: ElasticsearchWarning: Elasticsearch built-in security features are not enabled. Without authentication, your cluster could be accessible to anyone. See https://www.elastic.co/guide/en/elasticsearch/reference/7.17/security-minimal-setup.html to enable security.\n",
      "  es.index(index=es_index, body=document)\n"
     ]
    }
   ],
   "source": [
    "# Push data to Elasticsearch\n",
    "push_to_elasticsearch(mysql_data)"
   ]
  }
 ],
 "metadata": {
  "kernelspec": {
   "display_name": "Python 3",
   "language": "python",
   "name": "python3"
  },
  "language_info": {
   "codemirror_mode": {
    "name": "ipython",
    "version": 3
   },
   "file_extension": ".py",
   "mimetype": "text/x-python",
   "name": "python",
   "nbconvert_exporter": "python",
   "pygments_lexer": "ipython3",
   "version": "3.9.6"
  }
 },
 "nbformat": 4,
 "nbformat_minor": 2
}
